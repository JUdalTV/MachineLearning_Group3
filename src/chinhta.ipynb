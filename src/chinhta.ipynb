{
 "cells": [
  {
   "cell_type": "code",
   "execution_count": 1,
   "metadata": {},
   "outputs": [
    {
     "name": "stdout",
     "output_type": "stream",
     "text": [
      "Đã xóa dữ liệu cũ trong bảng full.\n"
     ]
    },
    {
     "name": "stderr",
     "output_type": "stream",
     "text": [
      "Device set to use cpu\n"
     ]
    },
    {
     "name": "stdout",
     "output_type": "stream",
     "text": [
      "Dữ liệu đã được lưu vào bảng full.\n",
      "Dữ liệu đã được xuất ra file output.json.\n"
     ]
    }
   ],
   "source": [
    "import sqlite3\n",
    "from transformers import pipeline\n",
    "import re\n",
    "import json\n",
    "\n",
    "# Kết nối đến cơ sở dữ liệu\n",
    "DB_PATH = '../data/database.db'\n",
    "conn = sqlite3.connect(DB_PATH)\n",
    "cursor = conn.cursor()\n",
    "\n",
    "# Tạo bảng full nếu chưa tồn tại\n",
    "cursor.execute('''CREATE TABLE IF NOT EXISTS full (field TEXT, content TEXT)''')\n",
    "conn.commit()\n",
    "\n",
    "# Hàm xóa dữ liệu cũ trong bảng full\n",
    "def clear_old_data():\n",
    "    cursor.execute('DELETE FROM full')\n",
    "    conn.commit()\n",
    "    print(\"Đã xóa dữ liệu cũ trong bảng full.\")\n",
    "\n",
    "# Hàm làm sạch văn bản bằng Regular Expressions\n",
    "def clean_text(text):\n",
    "    # Loại bỏ các ký tự không mong muốn\n",
    "    cleaned_text = re.sub(r'[\\\"_;(-]', '', text)  # Loại bỏ dấu ngoặc kép, gạch dưới và dấu chấm phẩy\n",
    "    cleaned_text = re.sub(r'\\s+', ' ', cleaned_text).strip()  # Thay nhiều khoảng trắng thành một\n",
    "    return cleaned_text\n",
    "\n",
    "# Hàm chỉnh sửa chính tả và lưu vào DB\n",
    "def correct_spelling_and_save():\n",
    "    # Khởi tạo pipeline cho việc chỉnh sửa chính tả\n",
    "    corrector = pipeline(\"text2text-generation\", model=\"bmd1905/vietnamese-correction-v2\")\n",
    "\n",
    "    # Lấy dữ liệu từ bảng detailtrc\n",
    "    cursor.execute('SELECT input_name, output_path FROM detailtrc')\n",
    "    detailtrc_rows = cursor.fetchall()\n",
    "\n",
    "    # Lấy dữ liệu từ bảng detailsau\n",
    "    cursor.execute('SELECT input_name, output_path FROM detailsau')\n",
    "    detailsau_rows = cursor.fetchall()\n",
    "\n",
    "    # Lưu kết quả vào bảng full\n",
    "    for input_name, output_path in detailtrc_rows + detailsau_rows:  # Kết hợp cả hai bảng\n",
    "        corrected_text = corrector(output_path)[0]['generated_text']\n",
    "        cleaned_text = clean_text(corrected_text)  # Làm sạch văn bản đã chỉnh sửa\n",
    "        cursor.execute('INSERT INTO full (field, content) VALUES (?, ?)', (input_name, cleaned_text))\n",
    "\n",
    "    conn.commit()\n",
    "    print(\"Dữ liệu đã được lưu vào bảng full.\")\n",
    "\n",
    "# Hàm xuất dữ liệu ra file JSON theo định dạng yêu cầu\n",
    "def export_to_json():\n",
    "    cursor.execute('SELECT field, content FROM full')\n",
    "    rows = cursor.fetchall()\n",
    "\n",
    "    # Tạo một từ điển để lưu trữ kết quả theo định dạng yêu cầu\n",
    "    json_output = {}\n",
    "\n",
    "    for field, content in rows:\n",
    "        # Cập nhật giá trị cho từng trường trong json_output\n",
    "        if field in json_output:\n",
    "            # Nếu trường đã tồn tại, có thể gộp hoặc xử lý theo cách nào đó nếu cần thiết.\n",
    "            json_output[field] += f\", {content}\"  # Gộp nội dung nếu cần thiết (có thể điều chỉnh)\n",
    "        else:\n",
    "            json_output[field] = content\n",
    "\n",
    "    # Xuất ra file JSON\n",
    "    with open('../data/output.json', 'w', encoding='utf-8') as json_file:\n",
    "        json.dump(json_output, json_file, ensure_ascii=False, indent=4)\n",
    "    \n",
    "    print(\"Dữ liệu đã được xuất ra file output.json.\")\n",
    "\n",
    "# Xóa dữ liệu cũ trước khi bắt đầu\n",
    "clear_old_data()\n",
    "\n",
    "# Chạy hàm chỉnh sửa chính tả và lưu kết quả\n",
    "correct_spelling_and_save()\n",
    "\n",
    "# Xuất dữ liệu ra file JSON\n",
    "export_to_json()\n",
    "\n",
    "# Đóng kết nối cơ sở dữ liệu\n",
    "conn.close()\n"
   ]
  }
 ],
 "metadata": {
  "kernelspec": {
   "display_name": "base",
   "language": "python",
   "name": "python3"
  },
  "language_info": {
   "codemirror_mode": {
    "name": "ipython",
    "version": 3
   },
   "file_extension": ".py",
   "mimetype": "text/x-python",
   "name": "python",
   "nbconvert_exporter": "python",
   "pygments_lexer": "ipython3",
   "version": "3.12.3"
  }
 },
 "nbformat": 4,
 "nbformat_minor": 2
}
